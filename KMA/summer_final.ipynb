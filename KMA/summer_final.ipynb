{
 "cells": [
  {
   "cell_type": "code",
   "execution_count": 75,
   "id": "4b4eed9a-249b-49b0-b30e-cfc376bb3d00",
   "metadata": {},
   "outputs": [],
   "source": [
    "from sklearn.preprocessing import StandardScaler, MinMaxScaler\n",
    "from sklearn.linear_model import LinearRegression\n",
    "from sklearn.model_selection import train_test_split, GridSearchCV,  RandomizedSearchCV, cross_val_score\n",
    "from sklearn.metrics import accuracy_score, recall_score, precision_score, confusion_matrix, f1_score, roc_auc_score, mean_absolute_error\n",
    "from sklearn.ensemble import RandomForestClassifier, RandomForestRegressor\n",
    "from sklearn.utils.class_weight import compute_class_weight\n",
    "from scipy.stats import randint\n",
    "from bayes_opt import BayesianOptimization\n",
    "from xgboost import XGBClassifier, XGBRegressor\n",
    "from catboost import CatBoostRegressor\n",
    "from lightgbm import LGBMRegressor\n",
    "from tensorflow.keras.layers import Conv1D, RNN, GRU, LSTM, Dense, Input, BatchNormalization, Dropout, concatenate, Flatten, add, MaxPool1D, RepeatVector\n",
    "from tensorflow.keras.models import Sequential, Model\n",
    "from tensorflow.keras.losses import Huber \n",
    "from tensorflow.keras.regularizers import L1\n",
    "from tensorflow.keras.metrics import AUC\n",
    "from tensorflow.keras.callbacks import EarlyStopping, ModelCheckpoint\n",
    "from tensorflow.keras.utils import to_categorical\n",
    "from tensorflow.keras.optimizers import RMSprop\n",
    "from tensorflow.keras.optimizers.schedules import ExponentialDecay\n",
    "from tensorflow import one_hot\n",
    "import tensorflow as tf\n",
    "import os\n",
    "import pandas as pd\n",
    "import numpy as np \n",
    "import seaborn as sns\n",
    "import statsmodels.api as sm\n",
    "import matplotlib.pyplot as plt\n",
    "import time\n",
    "import math\n",
    "import random\n",
    "import warnings\n",
    "import pickle"
   ]
  },
  {
   "cell_type": "code",
   "execution_count": 2,
   "id": "bd17df41-896f-4b64-bba8-e9834139f027",
   "metadata": {},
   "outputs": [],
   "source": [
    "warnings.filterwarnings('ignore')"
   ]
  },
  {
   "cell_type": "markdown",
   "id": "73d4ab92-7eef-4252-9b96-2ca90486b4c7",
   "metadata": {
    "tags": []
   },
   "source": [
    "# 함수 정의"
   ]
  },
  {
   "cell_type": "code",
   "execution_count": null,
   "id": "9ae23a80-a921-4d4f-a9c1-5d7f06b53fbd",
   "metadata": {},
   "outputs": [],
   "source": [
    "def mae_cv(model, df): \n",
    "    # TimeSeries cv 함수 \n",
    "    maes = []\n",
    "    cv_model = model\n",
    "    years = ['A', 'B', 'C', 'D', 'E', 'F']\n",
    "    for i in range(4):\n",
    "        train_cv = df[(df['year'].isin(years[0:i+1]))|((df['year'] == years[i+1])&(df['month']==1))]\n",
    "        test_cv = df[((df['year'] == years[i+1])&(df['month']!=1)) | ((df['year'] == years[i+2])&(df['month']==1))]\n",
    "        x_train_cv, y_train_cv = make_xy(train_cv)\n",
    "        x_test_cv, y_test_cv = make_xy(test_cv)\n",
    "        _ = cv_model.fit(x_train_cv, y_train_cv)\n",
    "        maes.append(mean_absolute_error(y_test_cv, cv_model.predict(x_test_cv)))\n",
    "    return np.mean(maes)"
   ]
  },
  {
   "cell_type": "code",
   "execution_count": 4,
   "id": "885c5219-a28d-45f4-b74c-227bdaa63729",
   "metadata": {},
   "outputs": [],
   "source": [
    "def make_weather_df(df:pd.DataFrame, weather:str):\n",
    "    # 계절별로 나눠주는 함수\n",
    "    new_df = df.copy()\n",
    "    if weather == 'spring':\n",
    "        m_list = range(2, 5)\n",
    "    elif weather == 'summer':\n",
    "        m_list = range(5, 8)\n",
    "    elif weather == 'fall':\n",
    "        m_list = range(8, 11)\n",
    "    elif weather == 'winter':\n",
    "        m_list = [11,12,1]\n",
    "        \n",
    "    return new_df[new_df['month'].isin(m_list)].reset_index(drop = True)"
   ]
  },
  {
   "cell_type": "code",
   "execution_count": 5,
   "id": "915c3611-35b5-4855-b349-20e3de74ce08",
   "metadata": {},
   "outputs": [],
   "source": [
    "def make_xy(df:pd.DataFrame):\n",
    "    x = df.copy()\n",
    "    x['mmwk'] = 'm' + x['month'].astype(str) + 'w' + x['week'].astype(str)\n",
    "    x['hour'] = 'h' + x['hour'].astype(str)\n",
    "    x = x.drop(['area', 'year','month','week','day','land_temp'], axis = 1)\n",
    "    x['fog'] = pd.Categorical(x['fog'], categories = ['C', 'F', 'G', 'H', 'R', 'S', 'X'])\n",
    "    x = pd.concat([x, pd.get_dummies(x['mmwk']), pd.get_dummies(x['fog'])], axis = 1).drop(['mmwk', 'hour', 'fog'], axis = 1)\n",
    "    y = df[['land_temp']]\n",
    "    return x, y"
   ]
  },
  {
   "cell_type": "code",
   "execution_count": 77,
   "id": "f9f9507e-8401-49de-921b-611df5b04bb8",
   "metadata": {},
   "outputs": [],
   "source": [
    "def make_x(df:pd.DataFrame):\n",
    "    #test data 용\n",
    "    x = df.copy()\n",
    "    x['mmwk'] = 'm' + x['month'].astype(str) + 'w' + x['week'].astype(str)\n",
    "    x['hour'] = 'h' + x['hour'].astype(str)\n",
    "    x = x.drop(['area', 'year','month','week','day'], axis = 1)\n",
    "    x['fog'] = pd.Categorical(x['fog'], categories = ['C', 'F', 'G', 'H', 'R', 'S', 'X'])\n",
    "    x = pd.concat([x, pd.get_dummies(x['mmwk']), pd.get_dummies(x['fog'])], axis = 1).drop(['mmwk', 'hour', 'fog'], axis = 1)\n",
    "    return x"
   ]
  },
  {
   "cell_type": "code",
   "execution_count": 78,
   "id": "5ae441e3-23e4-461f-a042-afb544e671b9",
   "metadata": {},
   "outputs": [],
   "source": [
    "def make_lagged(df:pd.DataFrame, columns:list, lag:int):\n",
    "    #lagged 변수 생성\n",
    "    new_df = df.drop(range(lag)).reset_index(drop = True).copy()\n",
    "    up, down = lag-1, 1\n",
    "    while up > -1: \n",
    "        drop_list = list(range(up)) + list(range(len(df)-1, len(df)-1-down, -1))\n",
    "        lag = df[columns].drop(drop_list).reset_index(drop = True).copy()\n",
    "        lag.columns = [x + '-' + str(down) for x in lag.columns]\n",
    "        new_df = pd.concat([new_df, lag], axis = 1)\n",
    "        up -= 1\n",
    "        down += 1 \n",
    "    return new_df"
   ]
  },
  {
   "cell_type": "code",
   "execution_count": 79,
   "id": "e0e0023a-1a92-456c-941b-68fdcfca3b8b",
   "metadata": {},
   "outputs": [],
   "source": [
    "def repeat_lagged(df:pd.DataFrame, columns:list, lag:int):\n",
    "    #area 별로 나눠서 lag 변수 생성\n",
    "    dfs = []\n",
    "    for area in df.area.unique():\n",
    "        tmp = df[df['area']==area].reset_index(drop = True)\n",
    "        dfs.append(make_lagged(tmp, columns, lag))\n",
    "    return pd.concat(dfs).reset_index(drop=True)"
   ]
  },
  {
   "cell_type": "markdown",
   "id": "1448f5e2-2de0-49b0-8bc5-3cf58247bab5",
   "metadata": {},
   "source": [
    "# 데이터"
   ]
  },
  {
   "cell_type": "code",
   "execution_count": 9,
   "id": "7fef8f6d-a309-471c-beda-5e9fec592ee1",
   "metadata": {},
   "outputs": [],
   "source": [
    "path = 'data/'"
   ]
  },
  {
   "cell_type": "code",
   "execution_count": 10,
   "id": "266025fe-73f1-48f4-bbd7-044e547041f9",
   "metadata": {},
   "outputs": [],
   "source": [
    "train = pd.read_csv(path+'train0624.csv', index_col = 0).reset_index(drop = True)\n",
    "train['month'] = train.month.astype(int)\n",
    "train['day'] = train['day'].astype(int)\n",
    "train['hour'] = train['hour'].astype(int)\n",
    "train['area'] = train['area'].astype(int)\n",
    "train['week'] = np.where(train['day'] < 11, 1, np.where(train['day'] < 21, 2, 3))"
   ]
  },
  {
   "cell_type": "code",
   "execution_count": 11,
   "id": "d8a96dc7-f573-4e49-9ac5-d31133fac30c",
   "metadata": {},
   "outputs": [],
   "source": [
    "train['snow'] = np.where((train['snow'] == -99.9)&(train['fog'] != 'S'), 0, train['snow'])\n",
    "train['solar_time'] = np.where((train['solar_time'] == -99.9)&(train['fog'] != 'C'), 0, train['solar_time'])\n",
    "train['solar_amt'] = np.where((train['solar_amt'] == -99.9)&(train['fog'] != 'C'), 0, train['solar_amt'])\n",
    "train['rain'] = np.where((train['rain'] == -99.9)&(train['fog'] != 'R'), 0, train['rain'])\n",
    "train['tf_rain'] = np.where((train['tf_rain'] == -99.9)&(train['fog'] != 'R'), 0, train['tf_rain'])\n",
    "train = train.replace(-99.9, np.nan)\n",
    "train['solar_amt'] = train['solar_amt'].fillna(0)\n",
    "train['solar_time'] = train['solar_time'].fillna(0)\n",
    "train['tf_rain'] = np.where(train['tf_rain'] < 0, 0, train['tf_rain'])/60\n",
    "train['humid'] = train['humid']/100"
   ]
  },
  {
   "cell_type": "code",
   "execution_count": 12,
   "id": "f573c8c6-85eb-4446-81c7-dd8698111c30",
   "metadata": {},
   "outputs": [],
   "source": [
    "test = pd.read_csv(path+'imputed_test_data0624.csv').reset_index(drop = True)\n",
    "test['month'] = test.month.astype(int)\n",
    "test['day'] = test['day'].astype(int)\n",
    "test['hour'] = test['hour'].astype(int)\n",
    "test['area'] = test['area'].replace(1, 'a').replace(2, 'b').replace(3, 'c')\n",
    "test['week'] = np.where(test['day'] < 11, 1, np.where(test['day'] < 21, 2, 3))"
   ]
  },
  {
   "cell_type": "code",
   "execution_count": 13,
   "id": "ad226d4e-e9d0-4181-9796-b3abb81e4972",
   "metadata": {},
   "outputs": [],
   "source": [
    "test['snow'] = np.where((test['snow'] == -99.9)&(test['fog'] != 'S'), 0, test['snow'])\n",
    "test['solar_time'] = np.where((test['solar_time'] == -99.9)&(test['fog'] != 'C'), 0, test['solar_time'])\n",
    "test['solar_amt'] = np.where((test['solar_amt'] == -99.9)&(test['fog'] != 'C'), 0, test['solar_amt'])\n",
    "test['rain'] = np.where((test['rain'] == -99.9)&(test['fog'] != 'R'), 0, test['rain'])\n",
    "test['tf_rain'] = np.where((test['tf_rain'] == -99.9)&(test['fog'] != 'R'), 0, test['tf_rain'])\n",
    "test = test.replace(-99.9, np.nan)\n",
    "test['solar_amt'] = test['solar_amt'].fillna(0)\n",
    "test['solar_time'] = test['solar_time'].fillna(0)\n",
    "test = test.interpolate(method = 'linear')\n",
    "test['tf_rain'] = np.where(test['tf_rain'] < 0, 0, test['tf_rain'])/60\n",
    "test['humid'] = test['humid']/100"
   ]
  },
  {
   "cell_type": "code",
   "execution_count": 82,
   "id": "ed0550d3-4b7b-4f8f-a3d6-23fd136f7ff2",
   "metadata": {},
   "outputs": [],
   "source": [
    "seasonal=  {} #hour 감안하기 위해 24시간 seasonality 구함\n",
    "for area in range(1, 11): \n",
    "    # area 별로 시즌 따로 구해줌\n",
    "    ts = train[(train['area']==area)].reset_index(drop = True) #area 당 train 기간 동안 time series 구함 \n",
    "    decomposition = sm.tsa.seasonal_decompose(ts['land_temp'], model='additive', period = 24) # hour별 트렌드가 목적이므로 period = 24 \n",
    "    seasonal.update({'area'+str(area): decomposition.seasonal[:24]}) # period를 24로 잡았기 때문에 0~23 숫자가 계속 반복되므로 처음 24개만 가져옴\n",
    "season = pd.DataFrame(seasonal).mean(axis = 1) # area 10개에 대해서 평균으로 사용 \n",
    "train['season'] = 0 \n",
    "for i in range(24):\n",
    "    train['season'] = np.where(train['hour'] == i, season[i], train['season'])\n",
    "test['season'] = 0\n",
    "for i in range(24):\n",
    "    test['season'] = np.where(test['hour'] == i, season[i], test['season'])"
   ]
  },
  {
   "cell_type": "code",
   "execution_count": 81,
   "id": "19dd8275-620c-46b9-bd1c-994b3f8f8e52",
   "metadata": {},
   "outputs": [],
   "source": [
    "cols = ['temp', 'dp_temp', 'humid', 'wind', 'rain', 'tf_rain', 'solar_amt', 'solar_time']\n",
    "train_lagged = repeat_lagged(train, cols, 24)\n",
    "test_lagged = repeat_lagged(test, cols, 24)"
   ]
  },
  {
   "cell_type": "markdown",
   "id": "71c35a32-2663-48e1-a3b0-d0cf34888e4e",
   "metadata": {},
   "source": [
    "# 모델 선택"
   ]
  },
  {
   "cell_type": "code",
   "execution_count": 16,
   "id": "3310c99c-4761-412f-8d8c-87cb3a9f7a80",
   "metadata": {},
   "outputs": [
    {
     "name": "stdout",
     "output_type": "stream",
     "text": [
      "|   iter    |  target   | baggin... | border... |   depth   | l2_lea... | random... |\n",
      "-------------------------------------------------------------------------------------\n",
      "| \u001b[0m1        \u001b[0m | \u001b[0m-1.561   \u001b[0m | \u001b[0m0.4881   \u001b[0m | \u001b[0m732.6    \u001b[0m | \u001b[0m6.425    \u001b[0m | \u001b[0m272.9    \u001b[0m | \u001b[0m-1.611   \u001b[0m |\n",
      "| \u001b[0m2        \u001b[0m | \u001b[0m-1.766   \u001b[0m | \u001b[0m-0.6712  \u001b[0m | \u001b[0m456.1    \u001b[0m | \u001b[0m1.083    \u001b[0m | \u001b[0m383.1    \u001b[0m | \u001b[0m1.104    \u001b[0m |\n",
      "=====================================================================================\n",
      "|   iter    |  target   | baggin... | border... |   depth   | l2_lea... | random... |\n",
      "-------------------------------------------------------------------------------------\n",
      "| \u001b[95m3        \u001b[0m | \u001b[95m-1.533   \u001b[0m | \u001b[95m1.459    \u001b[0m | \u001b[95m448.7    \u001b[0m | \u001b[95m9.026    \u001b[0m | \u001b[95m481.9    \u001b[0m | \u001b[95m-1.932   \u001b[0m |\n",
      "| \u001b[0m4        \u001b[0m | \u001b[0m-1.55    \u001b[0m | \u001b[0m-0.7621  \u001b[0m | \u001b[0m451.2    \u001b[0m | \u001b[0m7.837    \u001b[0m | \u001b[0m479.6    \u001b[0m | \u001b[0m-4.328   \u001b[0m |\n",
      "=====================================================================================\n",
      "|   iter    |  target   | baggin... | border... |   depth   | l2_lea... | random... |\n",
      "-------------------------------------------------------------------------------------\n",
      "| \u001b[0m5        \u001b[0m | \u001b[0m-1.562   \u001b[0m | \u001b[0m2.917    \u001b[0m | \u001b[0m542.1    \u001b[0m | \u001b[0m6.112    \u001b[0m | \u001b[0m462.9    \u001b[0m | \u001b[0m-4.432   \u001b[0m |\n",
      "| \u001b[0m6        \u001b[0m | \u001b[0m-1.6     \u001b[0m | \u001b[0m1.498    \u001b[0m | \u001b[0m407.2    \u001b[0m | \u001b[0m4.386    \u001b[0m | \u001b[0m498.8    \u001b[0m | \u001b[0m-3.079   \u001b[0m |\n",
      "=====================================================================================\n",
      "|   iter    |  target   | baggin... | border... |   depth   | l2_lea... | random... |\n",
      "-------------------------------------------------------------------------------------\n",
      "| \u001b[0m7        \u001b[0m | \u001b[0m-1.612   \u001b[0m | \u001b[0m-4.129   \u001b[0m | \u001b[0m21.68    \u001b[0m | \u001b[0m8.494    \u001b[0m | \u001b[0m389.3    \u001b[0m | \u001b[0m1.96     \u001b[0m |\n",
      "| \u001b[0m8        \u001b[0m | \u001b[0m-1.541   \u001b[0m | \u001b[0m4.376    \u001b[0m | \u001b[0m479.7    \u001b[0m | \u001b[0m8.094    \u001b[0m | \u001b[0m498.1    \u001b[0m | \u001b[0m-1.611   \u001b[0m |\n",
      "=====================================================================================\n",
      "|   iter    |  target   | baggin... | border... |   depth   | l2_lea... | random... |\n",
      "-------------------------------------------------------------------------------------\n",
      "| \u001b[0m9        \u001b[0m | \u001b[0m-1.579   \u001b[0m | \u001b[0m4.786    \u001b[0m | \u001b[0m818.5    \u001b[0m | \u001b[0m5.153    \u001b[0m | \u001b[0m390.5    \u001b[0m | \u001b[0m-4.054   \u001b[0m |\n",
      "| \u001b[0m10       \u001b[0m | \u001b[0m-1.6     \u001b[0m | \u001b[0m-2.764   \u001b[0m | \u001b[0m537.3    \u001b[0m | \u001b[0m4.972    \u001b[0m | \u001b[0m499.8    \u001b[0m | \u001b[0m-4.028   \u001b[0m |\n",
      "=====================================================================================\n",
      "|   iter    |  target   | baggin... | border... |   depth   | l2_lea... | random... |\n",
      "-------------------------------------------------------------------------------------\n",
      "| \u001b[95m11       \u001b[0m | \u001b[95m-1.531   \u001b[0m | \u001b[95m1.399    \u001b[0m | \u001b[95m147.7    \u001b[0m | \u001b[95m9.502    \u001b[0m | \u001b[95m261.4    \u001b[0m | \u001b[95m-1.683   \u001b[0m |\n",
      "| \u001b[0m12       \u001b[0m | \u001b[0m-2.006   \u001b[0m | \u001b[0m-5.0     \u001b[0m | \u001b[0m170.5    \u001b[0m | \u001b[0m1.0      \u001b[0m | \u001b[0m238.4    \u001b[0m | \u001b[0m2.11     \u001b[0m |\n",
      "=====================================================================================\n",
      "|   iter    |  target   | baggin... | border... |   depth   | l2_lea... | random... |\n",
      "-------------------------------------------------------------------------------------\n",
      "| \u001b[0m13       \u001b[0m | \u001b[0m-1.579   \u001b[0m | \u001b[0m-2.354   \u001b[0m | \u001b[0m793.0    \u001b[0m | \u001b[0m5.105    \u001b[0m | \u001b[0m284.6    \u001b[0m | \u001b[0m-4.85    \u001b[0m |\n",
      "| \u001b[0m14       \u001b[0m | \u001b[0m-1.663   \u001b[0m | \u001b[0m2.365    \u001b[0m | \u001b[0m133.0    \u001b[0m | \u001b[0m2.055    \u001b[0m | \u001b[0m273.5    \u001b[0m | \u001b[0m-4.216   \u001b[0m |\n",
      "=====================================================================================\n",
      "|   iter    |  target   | baggin... | border... |   depth   | l2_lea... | random... |\n",
      "-------------------------------------------------------------------------------------\n",
      "| \u001b[0m15       \u001b[0m | \u001b[0m-1.561   \u001b[0m | \u001b[0m1.176    \u001b[0m | \u001b[0m627.2    \u001b[0m | \u001b[0m6.552    \u001b[0m | \u001b[0m471.9    \u001b[0m | \u001b[0m0.4546   \u001b[0m |\n",
      "| \u001b[0m16       \u001b[0m | \u001b[0m-2.095   \u001b[0m | \u001b[0m4.435    \u001b[0m | \u001b[0m461.9    \u001b[0m | \u001b[0m1.789    \u001b[0m | \u001b[0m486.6    \u001b[0m | \u001b[0m2.722    \u001b[0m |\n",
      "=====================================================================================\n",
      "|   iter    |  target   | baggin... | border... |   depth   | l2_lea... | random... |\n",
      "-------------------------------------------------------------------------------------\n",
      "| \u001b[0m17       \u001b[0m | \u001b[0m-1.55    \u001b[0m | \u001b[0m-1.405   \u001b[0m | \u001b[0m448.1    \u001b[0m | \u001b[0m7.279    \u001b[0m | \u001b[0m31.05    \u001b[0m | \u001b[0m0.3341   \u001b[0m |\n",
      "| \u001b[0m18       \u001b[0m | \u001b[0m-1.585   \u001b[0m | \u001b[0m3.88     \u001b[0m | \u001b[0m445.8    \u001b[0m | \u001b[0m8.924    \u001b[0m | \u001b[0m473.6    \u001b[0m | \u001b[0m1.789    \u001b[0m |\n",
      "=====================================================================================\n",
      "|   iter    |  target   | baggin... | border... |   depth   | l2_lea... | random... |\n",
      "-------------------------------------------------------------------------------------\n",
      "| \u001b[0m19       \u001b[0m | \u001b[0m-1.657   \u001b[0m | \u001b[0m1.706    \u001b[0m | \u001b[0m216.2    \u001b[0m | \u001b[0m2.16     \u001b[0m | \u001b[0m158.4    \u001b[0m | \u001b[0m-2.09    \u001b[0m |\n",
      "| \u001b[0m20       \u001b[0m | \u001b[0m-1.55    \u001b[0m | \u001b[0m3.272    \u001b[0m | \u001b[0m439.2    \u001b[0m | \u001b[0m7.534    \u001b[0m | \u001b[0m484.3    \u001b[0m | \u001b[0m-3.007   \u001b[0m |\n",
      "=====================================================================================\n",
      "|   iter    |  target   | baggin... | border... |   depth   | l2_lea... | random... |\n",
      "-------------------------------------------------------------------------------------\n",
      "| \u001b[0m21       \u001b[0m | \u001b[0m-1.534   \u001b[0m | \u001b[0m0.702    \u001b[0m | \u001b[0m449.7    \u001b[0m | \u001b[0m9.895    \u001b[0m | \u001b[0m51.92    \u001b[0m | \u001b[0m-3.329   \u001b[0m |\n",
      "| \u001b[0m22       \u001b[0m | \u001b[0m-1.562   \u001b[0m | \u001b[0m2.487    \u001b[0m | \u001b[0m452.7    \u001b[0m | \u001b[0m6.048    \u001b[0m | \u001b[0m40.48    \u001b[0m | \u001b[0m-4.125   \u001b[0m |\n",
      "=====================================================================================\n",
      "|   iter    |  target   | baggin... | border... |   depth   | l2_lea... | random... |\n",
      "-------------------------------------------------------------------------------------\n",
      "| \u001b[0m23       \u001b[0m | \u001b[0m-1.633   \u001b[0m | \u001b[0m-3.387   \u001b[0m | \u001b[0m669.1    \u001b[0m | \u001b[0m3.28     \u001b[0m | \u001b[0m233.7    \u001b[0m | \u001b[0m-3.045   \u001b[0m |\n",
      "| \u001b[0m24       \u001b[0m | \u001b[0m-1.679   \u001b[0m | \u001b[0m-3.543   \u001b[0m | \u001b[0m437.5    \u001b[0m | \u001b[0m3.491    \u001b[0m | \u001b[0m40.5     \u001b[0m | \u001b[0m1.519    \u001b[0m |\n",
      "=====================================================================================\n",
      "|   iter    |  target   | baggin... | border... |   depth   | l2_lea... | random... |\n",
      "-------------------------------------------------------------------------------------\n",
      "| \u001b[0m25       \u001b[0m | \u001b[0m-1.562   \u001b[0m | \u001b[0m-3.41    \u001b[0m | \u001b[0m113.9    \u001b[0m | \u001b[0m6.907    \u001b[0m | \u001b[0m69.95    \u001b[0m | \u001b[0m-3.427   \u001b[0m |\n",
      "| \u001b[0m26       \u001b[0m | \u001b[0m-1.617   \u001b[0m | \u001b[0m-5.0     \u001b[0m | \u001b[0m457.1    \u001b[0m | \u001b[0m10.0     \u001b[0m | \u001b[0m46.53    \u001b[0m | \u001b[0m3.0      \u001b[0m |\n",
      "=====================================================================================\n",
      "|   iter    |  target   | baggin... | border... |   depth   | l2_lea... | random... |\n",
      "-------------------------------------------------------------------------------------\n",
      "| \u001b[0m27       \u001b[0m | \u001b[0m-1.703   \u001b[0m | \u001b[0m-1.313   \u001b[0m | \u001b[0m840.9    \u001b[0m | \u001b[0m1.874    \u001b[0m | \u001b[0m419.1    \u001b[0m | \u001b[0m-4.231   \u001b[0m |\n",
      "| \u001b[0m28       \u001b[0m | \u001b[0m-1.541   \u001b[0m | \u001b[0m-3.683   \u001b[0m | \u001b[0m488.8    \u001b[0m | \u001b[0m8.989    \u001b[0m | \u001b[0m496.3    \u001b[0m | \u001b[0m-3.017   \u001b[0m |\n",
      "=====================================================================================\n",
      "|   iter    |  target   | baggin... | border... |   depth   | l2_lea... | random... |\n",
      "-------------------------------------------------------------------------------------\n",
      "| \u001b[0m29       \u001b[0m | \u001b[0m-1.542   \u001b[0m | \u001b[0m4.765    \u001b[0m | \u001b[0m480.4    \u001b[0m | \u001b[0m9.791    \u001b[0m | \u001b[0m302.8    \u001b[0m | \u001b[0m0.9141   \u001b[0m |\n",
      "| \u001b[95m30       \u001b[0m | \u001b[95m-1.528   \u001b[0m | \u001b[95m-5.0     \u001b[0m | \u001b[95m441.7    \u001b[0m | \u001b[95m10.0     \u001b[0m | \u001b[95m477.9    \u001b[0m | \u001b[95m-5.0     \u001b[0m |\n",
      "=====================================================================================\n",
      "|   iter    |  target   | baggin... | border... |   depth   | l2_lea... | random... |\n",
      "-------------------------------------------------------------------------------------\n",
      "| \u001b[0m31       \u001b[0m | \u001b[0m-1.659   \u001b[0m | \u001b[0m-4.608   \u001b[0m | \u001b[0m290.3    \u001b[0m | \u001b[0m2.082    \u001b[0m | \u001b[0m148.8    \u001b[0m | \u001b[0m-4.05    \u001b[0m |\n",
      "| \u001b[0m32       \u001b[0m | \u001b[0m-1.703   \u001b[0m | \u001b[0m4.012    \u001b[0m | \u001b[0m489.1    \u001b[0m | \u001b[0m1.969    \u001b[0m | \u001b[0m498.1    \u001b[0m | \u001b[0m-2.874   \u001b[0m |\n",
      "=====================================================================================\n",
      "|   iter    |  target   | baggin... | border... |   depth   | l2_lea... | random... |\n",
      "-------------------------------------------------------------------------------------\n",
      "| \u001b[0m33       \u001b[0m | \u001b[0m-1.704   \u001b[0m | \u001b[0m-1.82    \u001b[0m | \u001b[0m424.8    \u001b[0m | \u001b[0m1.577    \u001b[0m | \u001b[0m346.5    \u001b[0m | \u001b[0m-0.4672  \u001b[0m |\n",
      "| \u001b[0m34       \u001b[0m | \u001b[0m-1.535   \u001b[0m | \u001b[0m-1.874   \u001b[0m | \u001b[0m156.8    \u001b[0m | \u001b[0m10.0     \u001b[0m | \u001b[0m267.7    \u001b[0m | \u001b[0m-2.89    \u001b[0m |\n",
      "=====================================================================================\n",
      "|   iter    |  target   | baggin... | border... |   depth   | l2_lea... | random... |\n",
      "-------------------------------------------------------------------------------------\n",
      "| \u001b[0m35       \u001b[0m | \u001b[0m-2.079   \u001b[0m | \u001b[0m-2.346   \u001b[0m | \u001b[0m536.3    \u001b[0m | \u001b[0m1.845    \u001b[0m | \u001b[0m288.4    \u001b[0m | \u001b[0m2.434    \u001b[0m |\n",
      "| \u001b[0m36       \u001b[0m | \u001b[0m-1.627   \u001b[0m | \u001b[0m4.584    \u001b[0m | \u001b[0m453.0    \u001b[0m | \u001b[0m6.186    \u001b[0m | \u001b[0m64.08    \u001b[0m | \u001b[0m1.981    \u001b[0m |\n",
      "=====================================================================================\n",
      "|   iter    |  target   | baggin... | border... |   depth   | l2_lea... | random... |\n",
      "-------------------------------------------------------------------------------------\n",
      "| \u001b[0m37       \u001b[0m | \u001b[0m-1.656   \u001b[0m | \u001b[0m-1.814   \u001b[0m | \u001b[0m683.8    \u001b[0m | \u001b[0m2.186    \u001b[0m | \u001b[0m358.4    \u001b[0m | \u001b[0m-2.685   \u001b[0m |\n",
      "| \u001b[0m38       \u001b[0m | \u001b[0m-1.539   \u001b[0m | \u001b[0m-1.311   \u001b[0m | \u001b[0m462.1    \u001b[0m | \u001b[0m8.22     \u001b[0m | \u001b[0m23.67    \u001b[0m | \u001b[0m-1.811   \u001b[0m |\n",
      "=====================================================================================\n",
      "|   iter    |  target   | baggin... | border... |   depth   | l2_lea... | random... |\n",
      "-------------------------------------------------------------------------------------\n",
      "| \u001b[0m39       \u001b[0m | \u001b[0m-1.703   \u001b[0m | \u001b[0m-3.168   \u001b[0m | \u001b[0m601.0    \u001b[0m | \u001b[0m1.181    \u001b[0m | \u001b[0m414.6    \u001b[0m | \u001b[0m-4.962   \u001b[0m |\n",
      "| \u001b[0m40       \u001b[0m | \u001b[0m-1.544   \u001b[0m | \u001b[0m-2.605   \u001b[0m | \u001b[0m454.0    \u001b[0m | \u001b[0m8.474    \u001b[0m | \u001b[0m10.62    \u001b[0m | \u001b[0m0.5906   \u001b[0m |\n",
      "=====================================================================================\n",
      "|   iter    |  target   | baggin... | border... |   depth   | l2_lea... | random... |\n",
      "-------------------------------------------------------------------------------------\n",
      "| \u001b[0m41       \u001b[0m | \u001b[0m-1.55    \u001b[0m | \u001b[0m1.778    \u001b[0m | \u001b[0m277.2    \u001b[0m | \u001b[0m7.617    \u001b[0m | \u001b[0m481.1    \u001b[0m | \u001b[0m-3.01    \u001b[0m |\n",
      "| \u001b[0m42       \u001b[0m | \u001b[0m-1.601   \u001b[0m | \u001b[0m0.2436   \u001b[0m | \u001b[0m468.6    \u001b[0m | \u001b[0m4.597    \u001b[0m | \u001b[0m13.24    \u001b[0m | \u001b[0m-4.126   \u001b[0m |\n",
      "=====================================================================================\n",
      "CAT train MAE: 1.307\n"
     ]
    }
   ],
   "source": [
    "def cat_cv(depth, random_strength, bagging_temperature, l2_leaf_reg, border_count):\n",
    "    #catboost용 cv 함수 정의\n",
    "    depth = int(depth)\n",
    "    border_count = int(border_count)\n",
    "    random_strength = 10**(random_strength)\n",
    "    bagging_temperature = 10**(bagging_temperature)\n",
    "    model = CatBoostRegressor(random_state = 0, verbose = False, loss_function = \"MAE\", depth=depth, random_strength=random_strength, \n",
    "                                  bagging_temperature=bagging_temperature, l2_leaf_reg=l2_leaf_reg, border_count=border_count)\n",
    "    return -mae_cv(model, train_lagged)\n",
    "    \n",
    "cat_param_ranges = {'depth': (1, 10), 'random_strength': (-5, 3), 'bagging_temperature': (-5, 5), 'l2_leaf_reg': (1,500), 'border_count': (1,1024)}\n",
    "\n",
    "BO = BayesianOptimization(f=cat_cv, pbounds=cat_param_ranges, random_state=0)\n",
    "start = time.time()\n",
    "time_limit = 3600*3  # BO 돌릴 시간 (초) 정해줌 \n",
    "while time.time() - start < time_limit:\n",
    "        BO.maximize(init_points=1, n_iter= 1)\n",
    "\n",
    "best_params = BO.max['params'] \n",
    "best_params['depth'] = int(best_params['depth'])\n",
    "best_params['border_count'] = int(best_params['border_count'])\n",
    "best_params['bagging_temperature'] = 10**best_params['bagging_temperature']\n",
    "best_params['random_strength'] = 10**best_params['random_strength']\n",
    "    \n",
    "best_model = CatBoostRegressor(random_state = 0, verbose = False, loss_function = \"MAE\", **best_params)\n",
    "x_train, y_train = make_xy(train_lagged)\n",
    "_ = best_model.fit(x_train, y_train)\n",
    "y_pred = best_model.predict(x_train)\n",
    "print(\"CAT train MAE:\", round(mean_absolute_error(y_train, y_pred), 3))"
   ]
  },
  {
   "cell_type": "markdown",
   "id": "f6cbe4c6-3dce-4010-a65c-0e49d657ed13",
   "metadata": {},
   "source": [
    "# 제출용"
   ]
  },
  {
   "cell_type": "code",
   "execution_count": 83,
   "id": "c1ea81f3-e208-454a-888f-8a9e9e76da9e",
   "metadata": {},
   "outputs": [],
   "source": [
    "x_test = make_x(test_lagged) \n",
    "test_lagged['y_pred'] = best_model.predict(x_test) #검증 데이터 예측 생성"
   ]
  },
  {
   "cell_type": "code",
   "execution_count": 87,
   "id": "a9d3565b-6fd7-4026-bf26-730c3377815b",
   "metadata": {},
   "outputs": [],
   "source": [
    "summer = pd.read_excel(path+'subminssionUser.xlsx', sheet_name=None)['SUMMER']"
   ]
  },
  {
   "cell_type": "code",
   "execution_count": 88,
   "id": "b5b0eed7-1a41-4d51-92ef-88c513de0199",
   "metadata": {},
   "outputs": [],
   "source": [
    "summer['idx'] = summer['STN'] + summer['YEAR'] + summer['MMDDHH'].astype(str) #제출 데이터와 학습 데이터 연결할 key 변수 \n",
    "test_lagged['idx'] = test_lagged['area'] + test_lagged['year'] + test_lagged['month'].astype(str) + test_lagged['day'].astype(str).str.zfill(2) + test_lagged['hour'].astype(str).str.zfill(2)"
   ]
  },
  {
   "cell_type": "code",
   "execution_count": 89,
   "id": "13c6f740-0898-42d3-b0d5-6c846faea076",
   "metadata": {},
   "outputs": [],
   "source": [
    "summer = summer.merge(test_lagged[['idx', 'y_pred']], on = 'idx', how = 'left') # 제출 데이터에 맞추기 위해 left join"
   ]
  },
  {
   "cell_type": "code",
   "execution_count": 92,
   "id": "aeb4928d-f5cb-41c8-8d19-2061f776cfd1",
   "metadata": {},
   "outputs": [
    {
     "data": {
      "text/plain": [
       "0"
      ]
     },
     "execution_count": 92,
     "metadata": {},
     "output_type": "execute_result"
    }
   ],
   "source": [
    "summer['y_pred'].isna().sum() #na 있는지 확인"
   ]
  },
  {
   "cell_type": "code",
   "execution_count": 72,
   "id": "bea69c83-708d-40cd-b107-91a9fcd323cc",
   "metadata": {},
   "outputs": [],
   "source": [
    "summer.to_csv('summer_result.csv', index = False)"
   ]
  }
 ],
 "metadata": {
  "kernelspec": {
   "display_name": "Python 3 (ipykernel)",
   "language": "python",
   "name": "python3"
  },
  "language_info": {
   "codemirror_mode": {
    "name": "ipython",
    "version": 3
   },
   "file_extension": ".py",
   "mimetype": "text/x-python",
   "name": "python",
   "nbconvert_exporter": "python",
   "pygments_lexer": "ipython3",
   "version": "3.9.15"
  }
 },
 "nbformat": 4,
 "nbformat_minor": 5
}
